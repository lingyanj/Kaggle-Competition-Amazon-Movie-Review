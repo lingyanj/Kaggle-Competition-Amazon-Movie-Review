{
 "cells": [
  {
   "cell_type": "code",
   "execution_count": 1,
   "metadata": {},
   "outputs": [],
   "source": [
    "import pandas as pd\n",
    "import numpy as np\n",
    "import matplotlib.pyplot as plt\n",
    "import nltk\n",
    "from sklearn.feature_extraction.text import TfidfTransformer\n",
    "from sklearn.feature_extraction.text import CountVectorizer\n",
    "from sklearn.feature_extraction.text import TfidfVectorizer\n",
    "from sklearn.preprocessing import LabelEncoder\n",
    "from sklearn.ensemble import GradientBoostingClassifier\n",
    "from sklearn.decomposition import PCA\n",
    "from sklearn.preprocessing import StandardScaler\n",
    "from sklearn.impute import KNNImputer\n",
    "import re\n",
    "from nltk.corpus import stopwords\n",
    "from bs4 import BeautifulSoup\n",
    "from nltk.stem import *\n",
    "import copy\n",
    "#nltk.download()"
   ]
  },
  {
   "cell_type": "code",
   "execution_count": 2,
   "metadata": {},
   "outputs": [],
   "source": [
    "testset = pd.read_csv('test.csv')\n",
    "trainset = pd.read_csv('train.csv')\n",
    "sampleset = pd.read_csv('sample.csv')"
   ]
  },
  {
   "cell_type": "code",
   "execution_count": 3,
   "metadata": {
    "scrolled": true
   },
   "outputs": [
    {
     "name": "stdout",
     "output_type": "stream",
     "text": [
      "<class 'pandas.core.frame.DataFrame'>\n",
      "RangeIndex: 1697533 entries, 0 to 1697532\n",
      "Data columns (total 9 columns):\n",
      " #   Column                  Dtype  \n",
      "---  ------                  -----  \n",
      " 0   Id                      int64  \n",
      " 1   ProductId               object \n",
      " 2   UserId                  object \n",
      " 3   HelpfulnessNumerator    int64  \n",
      " 4   HelpfulnessDenominator  int64  \n",
      " 5   Score                   float64\n",
      " 6   Time                    int64  \n",
      " 7   Summary                 object \n",
      " 8   Text                    object \n",
      "dtypes: float64(1), int64(4), object(4)\n",
      "memory usage: 116.6+ MB\n"
     ]
    },
    {
     "data": {
      "text/html": [
       "<div>\n",
       "<style scoped>\n",
       "    .dataframe tbody tr th:only-of-type {\n",
       "        vertical-align: middle;\n",
       "    }\n",
       "\n",
       "    .dataframe tbody tr th {\n",
       "        vertical-align: top;\n",
       "    }\n",
       "\n",
       "    .dataframe thead th {\n",
       "        text-align: right;\n",
       "    }\n",
       "</style>\n",
       "<table border=\"1\" class=\"dataframe\">\n",
       "  <thead>\n",
       "    <tr style=\"text-align: right;\">\n",
       "      <th></th>\n",
       "      <th>Id</th>\n",
       "      <th>ProductId</th>\n",
       "      <th>UserId</th>\n",
       "      <th>HelpfulnessNumerator</th>\n",
       "      <th>HelpfulnessDenominator</th>\n",
       "      <th>Score</th>\n",
       "      <th>Time</th>\n",
       "      <th>Summary</th>\n",
       "      <th>Text</th>\n",
       "    </tr>\n",
       "  </thead>\n",
       "  <tbody>\n",
       "    <tr>\n",
       "      <th>0</th>\n",
       "      <td>0</td>\n",
       "      <td>0005019281</td>\n",
       "      <td>ADZPIG9QOCDG5</td>\n",
       "      <td>0</td>\n",
       "      <td>0</td>\n",
       "      <td>4.0</td>\n",
       "      <td>1203984000</td>\n",
       "      <td>good version of a classic</td>\n",
       "      <td>This is a charming version of the classic Dick...</td>\n",
       "    </tr>\n",
       "    <tr>\n",
       "      <th>1</th>\n",
       "      <td>1</td>\n",
       "      <td>0005019281</td>\n",
       "      <td>A35947ZP82G7JH</td>\n",
       "      <td>0</td>\n",
       "      <td>0</td>\n",
       "      <td>3.0</td>\n",
       "      <td>1388361600</td>\n",
       "      <td>Good but not as moving</td>\n",
       "      <td>It was good but not as emotionally moving as t...</td>\n",
       "    </tr>\n",
       "    <tr>\n",
       "      <th>2</th>\n",
       "      <td>2</td>\n",
       "      <td>0005019281</td>\n",
       "      <td>A3UORV8A9D5L2E</td>\n",
       "      <td>0</td>\n",
       "      <td>0</td>\n",
       "      <td>3.0</td>\n",
       "      <td>1388361600</td>\n",
       "      <td>Winkler's Performance was ok at best!</td>\n",
       "      <td>Don't get me wrong, Winkler is a wonderful cha...</td>\n",
       "    </tr>\n",
       "    <tr>\n",
       "      <th>3</th>\n",
       "      <td>3</td>\n",
       "      <td>0005019281</td>\n",
       "      <td>A1VKW06X1O2X7V</td>\n",
       "      <td>0</td>\n",
       "      <td>0</td>\n",
       "      <td>5.0</td>\n",
       "      <td>1202860800</td>\n",
       "      <td>It's an enjoyable twist on the classic story</td>\n",
       "      <td>Henry Winkler is very good in this twist on th...</td>\n",
       "    </tr>\n",
       "    <tr>\n",
       "      <th>4</th>\n",
       "      <td>4</td>\n",
       "      <td>0005019281</td>\n",
       "      <td>A3R27T4HADWFFJ</td>\n",
       "      <td>0</td>\n",
       "      <td>0</td>\n",
       "      <td>4.0</td>\n",
       "      <td>1387670400</td>\n",
       "      <td>Best Scrooge yet</td>\n",
       "      <td>This is one of the best Scrooge movies out.  H...</td>\n",
       "    </tr>\n",
       "    <tr>\n",
       "      <th>5</th>\n",
       "      <td>5</td>\n",
       "      <td>0005019281</td>\n",
       "      <td>A2L0G56BNOTX6S</td>\n",
       "      <td>0</td>\n",
       "      <td>0</td>\n",
       "      <td>NaN</td>\n",
       "      <td>1383696000</td>\n",
       "      <td>Dickens updated.</td>\n",
       "      <td>This has been a favorite movie of mine for a l...</td>\n",
       "    </tr>\n",
       "    <tr>\n",
       "      <th>6</th>\n",
       "      <td>6</td>\n",
       "      <td>0005019281</td>\n",
       "      <td>A5NYUBEKXFLX5</td>\n",
       "      <td>1</td>\n",
       "      <td>1</td>\n",
       "      <td>5.0</td>\n",
       "      <td>1230595200</td>\n",
       "      <td>A MUST-HAVE FOR ANY VIDEO CHRISTMAS COLLECTION!!</td>\n",
       "      <td>This is the American adaptation of the Charles...</td>\n",
       "    </tr>\n",
       "    <tr>\n",
       "      <th>7</th>\n",
       "      <td>7</td>\n",
       "      <td>0005019281</td>\n",
       "      <td>A2DJ8B8GE4V2VD</td>\n",
       "      <td>0</td>\n",
       "      <td>0</td>\n",
       "      <td>5.0</td>\n",
       "      <td>1260835200</td>\n",
       "      <td>An American Christmas Carol</td>\n",
       "      <td>Glad that this american classic came out on dv...</td>\n",
       "    </tr>\n",
       "    <tr>\n",
       "      <th>8</th>\n",
       "      <td>8</td>\n",
       "      <td>0005019281</td>\n",
       "      <td>AWF2S3UNW9UA0</td>\n",
       "      <td>0</td>\n",
       "      <td>0</td>\n",
       "      <td>5.0</td>\n",
       "      <td>1386201600</td>\n",
       "      <td>an american christmas carol</td>\n",
       "      <td>A good Christmas carol dhenry winkler one duri...</td>\n",
       "    </tr>\n",
       "    <tr>\n",
       "      <th>9</th>\n",
       "      <td>9</td>\n",
       "      <td>0005019281</td>\n",
       "      <td>A3O4UUT83DG3OU</td>\n",
       "      <td>0</td>\n",
       "      <td>0</td>\n",
       "      <td>5.0</td>\n",
       "      <td>1379721600</td>\n",
       "      <td>Fantastic!</td>\n",
       "      <td>How a bitter old man comes to know the true me...</td>\n",
       "    </tr>\n",
       "    <tr>\n",
       "      <th>10</th>\n",
       "      <td>10</td>\n",
       "      <td>0005019281</td>\n",
       "      <td>A3TK5Q142X5Q8A</td>\n",
       "      <td>0</td>\n",
       "      <td>0</td>\n",
       "      <td>5.0</td>\n",
       "      <td>1387497600</td>\n",
       "      <td>Outstanding Concept, and Performances</td>\n",
       "      <td>The small historic Canadian town of Elora, wit...</td>\n",
       "    </tr>\n",
       "    <tr>\n",
       "      <th>11</th>\n",
       "      <td>11</td>\n",
       "      <td>0005019281</td>\n",
       "      <td>A33EWPXESP9GQH</td>\n",
       "      <td>0</td>\n",
       "      <td>0</td>\n",
       "      <td>NaN</td>\n",
       "      <td>1390780800</td>\n",
       "      <td>Good Version</td>\n",
       "      <td>Even though i don't care for Henry Winklers  a...</td>\n",
       "    </tr>\n",
       "    <tr>\n",
       "      <th>12</th>\n",
       "      <td>12</td>\n",
       "      <td>0005019281</td>\n",
       "      <td>AG8D804FUG5Y4</td>\n",
       "      <td>0</td>\n",
       "      <td>1</td>\n",
       "      <td>3.0</td>\n",
       "      <td>1199836800</td>\n",
       "      <td>Christmas</td>\n",
       "      <td>My wife told me of this movie in which Henry W...</td>\n",
       "    </tr>\n",
       "    <tr>\n",
       "      <th>13</th>\n",
       "      <td>13</td>\n",
       "      <td>0005019281</td>\n",
       "      <td>A1GHUN5HXMHZ89</td>\n",
       "      <td>0</td>\n",
       "      <td>0</td>\n",
       "      <td>5.0</td>\n",
       "      <td>1387670400</td>\n",
       "      <td>An American Christmas Carol</td>\n",
       "      <td>The first time I saw &amp;#34;An American Christma...</td>\n",
       "    </tr>\n",
       "    <tr>\n",
       "      <th>14</th>\n",
       "      <td>14</td>\n",
       "      <td>0005019281</td>\n",
       "      <td>A3VT62AP8KEK3V</td>\n",
       "      <td>1</td>\n",
       "      <td>1</td>\n",
       "      <td>4.0</td>\n",
       "      <td>1387497600</td>\n",
       "      <td>It's a Christmas Carol</td>\n",
       "      <td>Set in the USA about the time of the depressio...</td>\n",
       "    </tr>\n",
       "    <tr>\n",
       "      <th>15</th>\n",
       "      <td>15</td>\n",
       "      <td>0005019281</td>\n",
       "      <td>AAM67Y93KTIOL</td>\n",
       "      <td>0</td>\n",
       "      <td>0</td>\n",
       "      <td>5.0</td>\n",
       "      <td>1390435200</td>\n",
       "      <td>A FAMILIAR CLASSIC IN A DIFFERENT WAY</td>\n",
       "      <td>I really enjoy all the &amp;#34;Christmas Carol-Sc...</td>\n",
       "    </tr>\n",
       "    <tr>\n",
       "      <th>16</th>\n",
       "      <td>16</td>\n",
       "      <td>0005019281</td>\n",
       "      <td>A1GQF4JDJXBRLH</td>\n",
       "      <td>0</td>\n",
       "      <td>0</td>\n",
       "      <td>5.0</td>\n",
       "      <td>1173312000</td>\n",
       "      <td>Great Christmas movie for the family</td>\n",
       "      <td>This is a wonderful movie. It stay faithful to...</td>\n",
       "    </tr>\n",
       "    <tr>\n",
       "      <th>17</th>\n",
       "      <td>17</td>\n",
       "      <td>0005019281</td>\n",
       "      <td>A13KAQO9F5X0FN</td>\n",
       "      <td>0</td>\n",
       "      <td>0</td>\n",
       "      <td>NaN</td>\n",
       "      <td>1389657600</td>\n",
       "      <td>the fonz does scrooge</td>\n",
       "      <td>Anorher good movie for holiday watchers..a lit...</td>\n",
       "    </tr>\n",
       "    <tr>\n",
       "      <th>18</th>\n",
       "      <td>18</td>\n",
       "      <td>0005019281</td>\n",
       "      <td>A3UEOL981G9TXY</td>\n",
       "      <td>0</td>\n",
       "      <td>0</td>\n",
       "      <td>5.0</td>\n",
       "      <td>1328227200</td>\n",
       "      <td>An American Christmas Carol</td>\n",
       "      <td>Henry Winkler played a great part as Scrooge. ...</td>\n",
       "    </tr>\n",
       "    <tr>\n",
       "      <th>19</th>\n",
       "      <td>19</td>\n",
       "      <td>0005019281</td>\n",
       "      <td>AZBWH4HLG3JWV</td>\n",
       "      <td>0</td>\n",
       "      <td>1</td>\n",
       "      <td>5.0</td>\n",
       "      <td>1388102400</td>\n",
       "      <td>One of my favorite Christmas movies!</td>\n",
       "      <td>Ignore some of the more negative reviews on he...</td>\n",
       "    </tr>\n",
       "  </tbody>\n",
       "</table>\n",
       "</div>"
      ],
      "text/plain": [
       "    Id   ProductId          UserId  HelpfulnessNumerator  \\\n",
       "0    0  0005019281   ADZPIG9QOCDG5                     0   \n",
       "1    1  0005019281  A35947ZP82G7JH                     0   \n",
       "2    2  0005019281  A3UORV8A9D5L2E                     0   \n",
       "3    3  0005019281  A1VKW06X1O2X7V                     0   \n",
       "4    4  0005019281  A3R27T4HADWFFJ                     0   \n",
       "5    5  0005019281  A2L0G56BNOTX6S                     0   \n",
       "6    6  0005019281   A5NYUBEKXFLX5                     1   \n",
       "7    7  0005019281  A2DJ8B8GE4V2VD                     0   \n",
       "8    8  0005019281   AWF2S3UNW9UA0                     0   \n",
       "9    9  0005019281  A3O4UUT83DG3OU                     0   \n",
       "10  10  0005019281  A3TK5Q142X5Q8A                     0   \n",
       "11  11  0005019281  A33EWPXESP9GQH                     0   \n",
       "12  12  0005019281   AG8D804FUG5Y4                     0   \n",
       "13  13  0005019281  A1GHUN5HXMHZ89                     0   \n",
       "14  14  0005019281  A3VT62AP8KEK3V                     1   \n",
       "15  15  0005019281   AAM67Y93KTIOL                     0   \n",
       "16  16  0005019281  A1GQF4JDJXBRLH                     0   \n",
       "17  17  0005019281  A13KAQO9F5X0FN                     0   \n",
       "18  18  0005019281  A3UEOL981G9TXY                     0   \n",
       "19  19  0005019281   AZBWH4HLG3JWV                     0   \n",
       "\n",
       "    HelpfulnessDenominator  Score        Time  \\\n",
       "0                        0    4.0  1203984000   \n",
       "1                        0    3.0  1388361600   \n",
       "2                        0    3.0  1388361600   \n",
       "3                        0    5.0  1202860800   \n",
       "4                        0    4.0  1387670400   \n",
       "5                        0    NaN  1383696000   \n",
       "6                        1    5.0  1230595200   \n",
       "7                        0    5.0  1260835200   \n",
       "8                        0    5.0  1386201600   \n",
       "9                        0    5.0  1379721600   \n",
       "10                       0    5.0  1387497600   \n",
       "11                       0    NaN  1390780800   \n",
       "12                       1    3.0  1199836800   \n",
       "13                       0    5.0  1387670400   \n",
       "14                       1    4.0  1387497600   \n",
       "15                       0    5.0  1390435200   \n",
       "16                       0    5.0  1173312000   \n",
       "17                       0    NaN  1389657600   \n",
       "18                       0    5.0  1328227200   \n",
       "19                       1    5.0  1388102400   \n",
       "\n",
       "                                             Summary  \\\n",
       "0                          good version of a classic   \n",
       "1                             Good but not as moving   \n",
       "2              Winkler's Performance was ok at best!   \n",
       "3       It's an enjoyable twist on the classic story   \n",
       "4                                   Best Scrooge yet   \n",
       "5                                   Dickens updated.   \n",
       "6   A MUST-HAVE FOR ANY VIDEO CHRISTMAS COLLECTION!!   \n",
       "7                        An American Christmas Carol   \n",
       "8                        an american christmas carol   \n",
       "9                                         Fantastic!   \n",
       "10             Outstanding Concept, and Performances   \n",
       "11                                      Good Version   \n",
       "12                                         Christmas   \n",
       "13                       An American Christmas Carol   \n",
       "14                            It's a Christmas Carol   \n",
       "15             A FAMILIAR CLASSIC IN A DIFFERENT WAY   \n",
       "16              Great Christmas movie for the family   \n",
       "17                             the fonz does scrooge   \n",
       "18                       An American Christmas Carol   \n",
       "19              One of my favorite Christmas movies!   \n",
       "\n",
       "                                                 Text  \n",
       "0   This is a charming version of the classic Dick...  \n",
       "1   It was good but not as emotionally moving as t...  \n",
       "2   Don't get me wrong, Winkler is a wonderful cha...  \n",
       "3   Henry Winkler is very good in this twist on th...  \n",
       "4   This is one of the best Scrooge movies out.  H...  \n",
       "5   This has been a favorite movie of mine for a l...  \n",
       "6   This is the American adaptation of the Charles...  \n",
       "7   Glad that this american classic came out on dv...  \n",
       "8   A good Christmas carol dhenry winkler one duri...  \n",
       "9   How a bitter old man comes to know the true me...  \n",
       "10  The small historic Canadian town of Elora, wit...  \n",
       "11  Even though i don't care for Henry Winklers  a...  \n",
       "12  My wife told me of this movie in which Henry W...  \n",
       "13  The first time I saw &#34;An American Christma...  \n",
       "14  Set in the USA about the time of the depressio...  \n",
       "15  I really enjoy all the &#34;Christmas Carol-Sc...  \n",
       "16  This is a wonderful movie. It stay faithful to...  \n",
       "17  Anorher good movie for holiday watchers..a lit...  \n",
       "18  Henry Winkler played a great part as Scrooge. ...  \n",
       "19  Ignore some of the more negative reviews on he...  "
      ]
     },
     "execution_count": 3,
     "metadata": {},
     "output_type": "execute_result"
    }
   ],
   "source": [
    "trainset.info()\n",
    "trainset.head()\n",
    "trainset[:20]\n",
    "#trainset.isna().sum()"
   ]
  },
  {
   "cell_type": "markdown",
   "metadata": {},
   "source": [
    "# Filling missing value with text and summary"
   ]
  },
  {
   "cell_type": "code",
   "execution_count": 4,
   "metadata": {},
   "outputs": [
    {
     "data": {
      "text/plain": [
       "Id                             0\n",
       "ProductId                      0\n",
       "UserId                         0\n",
       "HelpfulnessNumerator           0\n",
       "HelpfulnessDenominator         0\n",
       "Score                     300000\n",
       "Time                           0\n",
       "Summary                        0\n",
       "Text                           0\n",
       "dtype: int64"
      ]
     },
     "execution_count": 4,
     "metadata": {},
     "output_type": "execute_result"
    }
   ],
   "source": [
    "trainset['Text'] = np.where(trainset['Text'].isnull(), trainset['Summary'], trainset['Text'])\n",
    "trainset['Summary'] = np.where(trainset['Summary'].isnull(), trainset['Text'], trainset['Summary'])\n",
    "trainset.isna().sum()"
   ]
  },
  {
   "cell_type": "code",
   "execution_count": 5,
   "metadata": {
    "scrolled": true
   },
   "outputs": [
    {
     "data": {
      "text/html": [
       "<div>\n",
       "<style scoped>\n",
       "    .dataframe tbody tr th:only-of-type {\n",
       "        vertical-align: middle;\n",
       "    }\n",
       "\n",
       "    .dataframe tbody tr th {\n",
       "        vertical-align: top;\n",
       "    }\n",
       "\n",
       "    .dataframe thead th {\n",
       "        text-align: right;\n",
       "    }\n",
       "</style>\n",
       "<table border=\"1\" class=\"dataframe\">\n",
       "  <thead>\n",
       "    <tr style=\"text-align: right;\">\n",
       "      <th></th>\n",
       "      <th>Id</th>\n",
       "      <th>ProductId</th>\n",
       "      <th>UserId</th>\n",
       "      <th>HelpfulnessNumerator</th>\n",
       "      <th>HelpfulnessDenominator</th>\n",
       "      <th>Score</th>\n",
       "      <th>Time</th>\n",
       "      <th>Summary</th>\n",
       "      <th>Text</th>\n",
       "    </tr>\n",
       "  </thead>\n",
       "  <tbody>\n",
       "    <tr>\n",
       "      <th>0</th>\n",
       "      <td>0</td>\n",
       "      <td>1</td>\n",
       "      <td>ADZPIG9QOCDG5</td>\n",
       "      <td>0</td>\n",
       "      <td>0</td>\n",
       "      <td>4.0</td>\n",
       "      <td>1203984000</td>\n",
       "      <td>good version of a classic</td>\n",
       "      <td>This is a charming version of the classic Dick...</td>\n",
       "    </tr>\n",
       "    <tr>\n",
       "      <th>1</th>\n",
       "      <td>1</td>\n",
       "      <td>1</td>\n",
       "      <td>A35947ZP82G7JH</td>\n",
       "      <td>0</td>\n",
       "      <td>0</td>\n",
       "      <td>3.0</td>\n",
       "      <td>1388361600</td>\n",
       "      <td>Good but not as moving</td>\n",
       "      <td>It was good but not as emotionally moving as t...</td>\n",
       "    </tr>\n",
       "    <tr>\n",
       "      <th>2</th>\n",
       "      <td>2</td>\n",
       "      <td>1</td>\n",
       "      <td>A3UORV8A9D5L2E</td>\n",
       "      <td>0</td>\n",
       "      <td>0</td>\n",
       "      <td>3.0</td>\n",
       "      <td>1388361600</td>\n",
       "      <td>Winkler's Performance was ok at best!</td>\n",
       "      <td>Don't get me wrong, Winkler is a wonderful cha...</td>\n",
       "    </tr>\n",
       "    <tr>\n",
       "      <th>3</th>\n",
       "      <td>3</td>\n",
       "      <td>1</td>\n",
       "      <td>A1VKW06X1O2X7V</td>\n",
       "      <td>0</td>\n",
       "      <td>0</td>\n",
       "      <td>5.0</td>\n",
       "      <td>1202860800</td>\n",
       "      <td>It's an enjoyable twist on the classic story</td>\n",
       "      <td>Henry Winkler is very good in this twist on th...</td>\n",
       "    </tr>\n",
       "    <tr>\n",
       "      <th>4</th>\n",
       "      <td>4</td>\n",
       "      <td>1</td>\n",
       "      <td>A3R27T4HADWFFJ</td>\n",
       "      <td>0</td>\n",
       "      <td>0</td>\n",
       "      <td>4.0</td>\n",
       "      <td>1387670400</td>\n",
       "      <td>Best Scrooge yet</td>\n",
       "      <td>This is one of the best Scrooge movies out.  H...</td>\n",
       "    </tr>\n",
       "    <tr>\n",
       "      <th>5</th>\n",
       "      <td>5</td>\n",
       "      <td>1</td>\n",
       "      <td>A2L0G56BNOTX6S</td>\n",
       "      <td>0</td>\n",
       "      <td>0</td>\n",
       "      <td>NaN</td>\n",
       "      <td>1383696000</td>\n",
       "      <td>Dickens updated.</td>\n",
       "      <td>This has been a favorite movie of mine for a l...</td>\n",
       "    </tr>\n",
       "    <tr>\n",
       "      <th>6</th>\n",
       "      <td>6</td>\n",
       "      <td>1</td>\n",
       "      <td>A5NYUBEKXFLX5</td>\n",
       "      <td>1</td>\n",
       "      <td>1</td>\n",
       "      <td>5.0</td>\n",
       "      <td>1230595200</td>\n",
       "      <td>A MUST-HAVE FOR ANY VIDEO CHRISTMAS COLLECTION!!</td>\n",
       "      <td>This is the American adaptation of the Charles...</td>\n",
       "    </tr>\n",
       "    <tr>\n",
       "      <th>7</th>\n",
       "      <td>7</td>\n",
       "      <td>1</td>\n",
       "      <td>A2DJ8B8GE4V2VD</td>\n",
       "      <td>0</td>\n",
       "      <td>0</td>\n",
       "      <td>5.0</td>\n",
       "      <td>1260835200</td>\n",
       "      <td>An American Christmas Carol</td>\n",
       "      <td>Glad that this american classic came out on dv...</td>\n",
       "    </tr>\n",
       "    <tr>\n",
       "      <th>8</th>\n",
       "      <td>8</td>\n",
       "      <td>1</td>\n",
       "      <td>AWF2S3UNW9UA0</td>\n",
       "      <td>0</td>\n",
       "      <td>0</td>\n",
       "      <td>5.0</td>\n",
       "      <td>1386201600</td>\n",
       "      <td>an american christmas carol</td>\n",
       "      <td>A good Christmas carol dhenry winkler one duri...</td>\n",
       "    </tr>\n",
       "    <tr>\n",
       "      <th>9</th>\n",
       "      <td>9</td>\n",
       "      <td>1</td>\n",
       "      <td>A3O4UUT83DG3OU</td>\n",
       "      <td>0</td>\n",
       "      <td>0</td>\n",
       "      <td>5.0</td>\n",
       "      <td>1379721600</td>\n",
       "      <td>Fantastic!</td>\n",
       "      <td>How a bitter old man comes to know the true me...</td>\n",
       "    </tr>\n",
       "  </tbody>\n",
       "</table>\n",
       "</div>"
      ],
      "text/plain": [
       "   Id ProductId          UserId  HelpfulnessNumerator  HelpfulnessDenominator  \\\n",
       "0   0         1   ADZPIG9QOCDG5                     0                       0   \n",
       "1   1         1  A35947ZP82G7JH                     0                       0   \n",
       "2   2         1  A3UORV8A9D5L2E                     0                       0   \n",
       "3   3         1  A1VKW06X1O2X7V                     0                       0   \n",
       "4   4         1  A3R27T4HADWFFJ                     0                       0   \n",
       "5   5         1  A2L0G56BNOTX6S                     0                       0   \n",
       "6   6         1   A5NYUBEKXFLX5                     1                       1   \n",
       "7   7         1  A2DJ8B8GE4V2VD                     0                       0   \n",
       "8   8         1   AWF2S3UNW9UA0                     0                       0   \n",
       "9   9         1  A3O4UUT83DG3OU                     0                       0   \n",
       "\n",
       "   Score        Time                                           Summary  \\\n",
       "0    4.0  1203984000                         good version of a classic   \n",
       "1    3.0  1388361600                            Good but not as moving   \n",
       "2    3.0  1388361600             Winkler's Performance was ok at best!   \n",
       "3    5.0  1202860800      It's an enjoyable twist on the classic story   \n",
       "4    4.0  1387670400                                  Best Scrooge yet   \n",
       "5    NaN  1383696000                                  Dickens updated.   \n",
       "6    5.0  1230595200  A MUST-HAVE FOR ANY VIDEO CHRISTMAS COLLECTION!!   \n",
       "7    5.0  1260835200                       An American Christmas Carol   \n",
       "8    5.0  1386201600                       an american christmas carol   \n",
       "9    5.0  1379721600                                        Fantastic!   \n",
       "\n",
       "                                                Text  \n",
       "0  This is a charming version of the classic Dick...  \n",
       "1  It was good but not as emotionally moving as t...  \n",
       "2  Don't get me wrong, Winkler is a wonderful cha...  \n",
       "3  Henry Winkler is very good in this twist on th...  \n",
       "4  This is one of the best Scrooge movies out.  H...  \n",
       "5  This has been a favorite movie of mine for a l...  \n",
       "6  This is the American adaptation of the Charles...  \n",
       "7  Glad that this american classic came out on dv...  \n",
       "8  A good Christmas carol dhenry winkler one duri...  \n",
       "9  How a bitter old man comes to know the true me...  "
      ]
     },
     "execution_count": 5,
     "metadata": {},
     "output_type": "execute_result"
    }
   ],
   "source": [
    "trainset['ProductId'] = trainset['ProductId'].astype(str)\n",
    "trainset['ProductId'] = pd.Categorical((pd.factorize(trainset.ProductId)[0] + 1))\n",
    "trainset[:10]"
   ]
  },
  {
   "cell_type": "code",
   "execution_count": 6,
   "metadata": {
    "scrolled": true
   },
   "outputs": [
    {
     "data": {
      "text/html": [
       "<div>\n",
       "<style scoped>\n",
       "    .dataframe tbody tr th:only-of-type {\n",
       "        vertical-align: middle;\n",
       "    }\n",
       "\n",
       "    .dataframe tbody tr th {\n",
       "        vertical-align: top;\n",
       "    }\n",
       "\n",
       "    .dataframe thead th {\n",
       "        text-align: right;\n",
       "    }\n",
       "</style>\n",
       "<table border=\"1\" class=\"dataframe\">\n",
       "  <thead>\n",
       "    <tr style=\"text-align: right;\">\n",
       "      <th></th>\n",
       "      <th>Id</th>\n",
       "      <th>ProductId</th>\n",
       "      <th>UserId</th>\n",
       "      <th>HelpfulnessNumerator</th>\n",
       "      <th>HelpfulnessDenominator</th>\n",
       "      <th>Score</th>\n",
       "      <th>Time</th>\n",
       "      <th>Summary</th>\n",
       "      <th>Text</th>\n",
       "    </tr>\n",
       "  </thead>\n",
       "  <tbody>\n",
       "    <tr>\n",
       "      <th>0</th>\n",
       "      <td>0</td>\n",
       "      <td>1</td>\n",
       "      <td>1</td>\n",
       "      <td>0</td>\n",
       "      <td>0</td>\n",
       "      <td>4.0</td>\n",
       "      <td>1203984000</td>\n",
       "      <td>good version of a classic</td>\n",
       "      <td>This is a charming version of the classic Dick...</td>\n",
       "    </tr>\n",
       "    <tr>\n",
       "      <th>1</th>\n",
       "      <td>1</td>\n",
       "      <td>1</td>\n",
       "      <td>2</td>\n",
       "      <td>0</td>\n",
       "      <td>0</td>\n",
       "      <td>3.0</td>\n",
       "      <td>1388361600</td>\n",
       "      <td>Good but not as moving</td>\n",
       "      <td>It was good but not as emotionally moving as t...</td>\n",
       "    </tr>\n",
       "    <tr>\n",
       "      <th>2</th>\n",
       "      <td>2</td>\n",
       "      <td>1</td>\n",
       "      <td>3</td>\n",
       "      <td>0</td>\n",
       "      <td>0</td>\n",
       "      <td>3.0</td>\n",
       "      <td>1388361600</td>\n",
       "      <td>Winkler's Performance was ok at best!</td>\n",
       "      <td>Don't get me wrong, Winkler is a wonderful cha...</td>\n",
       "    </tr>\n",
       "    <tr>\n",
       "      <th>3</th>\n",
       "      <td>3</td>\n",
       "      <td>1</td>\n",
       "      <td>4</td>\n",
       "      <td>0</td>\n",
       "      <td>0</td>\n",
       "      <td>5.0</td>\n",
       "      <td>1202860800</td>\n",
       "      <td>It's an enjoyable twist on the classic story</td>\n",
       "      <td>Henry Winkler is very good in this twist on th...</td>\n",
       "    </tr>\n",
       "    <tr>\n",
       "      <th>4</th>\n",
       "      <td>4</td>\n",
       "      <td>1</td>\n",
       "      <td>5</td>\n",
       "      <td>0</td>\n",
       "      <td>0</td>\n",
       "      <td>4.0</td>\n",
       "      <td>1387670400</td>\n",
       "      <td>Best Scrooge yet</td>\n",
       "      <td>This is one of the best Scrooge movies out.  H...</td>\n",
       "    </tr>\n",
       "    <tr>\n",
       "      <th>5</th>\n",
       "      <td>5</td>\n",
       "      <td>1</td>\n",
       "      <td>6</td>\n",
       "      <td>0</td>\n",
       "      <td>0</td>\n",
       "      <td>NaN</td>\n",
       "      <td>1383696000</td>\n",
       "      <td>Dickens updated.</td>\n",
       "      <td>This has been a favorite movie of mine for a l...</td>\n",
       "    </tr>\n",
       "    <tr>\n",
       "      <th>6</th>\n",
       "      <td>6</td>\n",
       "      <td>1</td>\n",
       "      <td>7</td>\n",
       "      <td>1</td>\n",
       "      <td>1</td>\n",
       "      <td>5.0</td>\n",
       "      <td>1230595200</td>\n",
       "      <td>A MUST-HAVE FOR ANY VIDEO CHRISTMAS COLLECTION!!</td>\n",
       "      <td>This is the American adaptation of the Charles...</td>\n",
       "    </tr>\n",
       "    <tr>\n",
       "      <th>7</th>\n",
       "      <td>7</td>\n",
       "      <td>1</td>\n",
       "      <td>8</td>\n",
       "      <td>0</td>\n",
       "      <td>0</td>\n",
       "      <td>5.0</td>\n",
       "      <td>1260835200</td>\n",
       "      <td>An American Christmas Carol</td>\n",
       "      <td>Glad that this american classic came out on dv...</td>\n",
       "    </tr>\n",
       "    <tr>\n",
       "      <th>8</th>\n",
       "      <td>8</td>\n",
       "      <td>1</td>\n",
       "      <td>9</td>\n",
       "      <td>0</td>\n",
       "      <td>0</td>\n",
       "      <td>5.0</td>\n",
       "      <td>1386201600</td>\n",
       "      <td>an american christmas carol</td>\n",
       "      <td>A good Christmas carol dhenry winkler one duri...</td>\n",
       "    </tr>\n",
       "    <tr>\n",
       "      <th>9</th>\n",
       "      <td>9</td>\n",
       "      <td>1</td>\n",
       "      <td>10</td>\n",
       "      <td>0</td>\n",
       "      <td>0</td>\n",
       "      <td>5.0</td>\n",
       "      <td>1379721600</td>\n",
       "      <td>Fantastic!</td>\n",
       "      <td>How a bitter old man comes to know the true me...</td>\n",
       "    </tr>\n",
       "  </tbody>\n",
       "</table>\n",
       "</div>"
      ],
      "text/plain": [
       "   Id ProductId UserId  HelpfulnessNumerator  HelpfulnessDenominator  Score  \\\n",
       "0   0         1      1                     0                       0    4.0   \n",
       "1   1         1      2                     0                       0    3.0   \n",
       "2   2         1      3                     0                       0    3.0   \n",
       "3   3         1      4                     0                       0    5.0   \n",
       "4   4         1      5                     0                       0    4.0   \n",
       "5   5         1      6                     0                       0    NaN   \n",
       "6   6         1      7                     1                       1    5.0   \n",
       "7   7         1      8                     0                       0    5.0   \n",
       "8   8         1      9                     0                       0    5.0   \n",
       "9   9         1     10                     0                       0    5.0   \n",
       "\n",
       "         Time                                           Summary  \\\n",
       "0  1203984000                         good version of a classic   \n",
       "1  1388361600                            Good but not as moving   \n",
       "2  1388361600             Winkler's Performance was ok at best!   \n",
       "3  1202860800      It's an enjoyable twist on the classic story   \n",
       "4  1387670400                                  Best Scrooge yet   \n",
       "5  1383696000                                  Dickens updated.   \n",
       "6  1230595200  A MUST-HAVE FOR ANY VIDEO CHRISTMAS COLLECTION!!   \n",
       "7  1260835200                       An American Christmas Carol   \n",
       "8  1386201600                       an american christmas carol   \n",
       "9  1379721600                                        Fantastic!   \n",
       "\n",
       "                                                Text  \n",
       "0  This is a charming version of the classic Dick...  \n",
       "1  It was good but not as emotionally moving as t...  \n",
       "2  Don't get me wrong, Winkler is a wonderful cha...  \n",
       "3  Henry Winkler is very good in this twist on th...  \n",
       "4  This is one of the best Scrooge movies out.  H...  \n",
       "5  This has been a favorite movie of mine for a l...  \n",
       "6  This is the American adaptation of the Charles...  \n",
       "7  Glad that this american classic came out on dv...  \n",
       "8  A good Christmas carol dhenry winkler one duri...  \n",
       "9  How a bitter old man comes to know the true me...  "
      ]
     },
     "execution_count": 6,
     "metadata": {},
     "output_type": "execute_result"
    }
   ],
   "source": [
    "trainset['UserId'] = trainset['UserId'].astype(str)\n",
    "trainset['UserId'] = pd.Categorical((pd.factorize(trainset.UserId)[0] + 1))\n",
    "trainset[:10]"
   ]
  },
  {
   "cell_type": "code",
   "execution_count": 7,
   "metadata": {},
   "outputs": [
    {
     "name": "stdout",
     "output_type": "stream",
     "text": [
      "50052\n",
      "123960\n"
     ]
    }
   ],
   "source": [
    "nunique1 = trainset['ProductId'].nunique()\n",
    "print(nunique1 )\n",
    "nunique2 = trainset['UserId'].nunique()\n",
    "print(nunique2)"
   ]
  },
  {
   "cell_type": "markdown",
   "metadata": {},
   "source": [
    "# Data Preprocessing"
   ]
  },
  {
   "cell_type": "code",
   "execution_count": 8,
   "metadata": {},
   "outputs": [],
   "source": [
    "summaryset = trainset.loc[:, ('Id', 'Summary')]\n",
    "null_index_summaryset = summaryset.loc[summaryset['Summary'].isnull(), :].index\n",
    "summaryempty = summaryset.iloc[null_index_summaryset]\n",
    "#print(summaryempty)\n",
    "#not_index_summaryset = summaryset.loc[summaryset['Summary'].notnull(), :].index\n",
    "summaryfull1 = summaryset.dropna()\n",
    "summaryfull = copy.deepcopy(summaryfull1)\n",
    "summaryfull.reset_index(inplace=True, drop=True)\n",
    "#print(summaryfull.dtypes)\n",
    "#print(summaryfull.loc[11603])\n",
    "\n",
    "\n",
    "textset = trainset.loc[:, ('Id', 'Text')]\n",
    "null_index_textset = textset.loc[textset['Text'].isnull(), :].index\n",
    "textempty = textset.iloc[null_index_textset]\n",
    "#print(textempty)\n",
    "#not_index_textset = textset.loc[textset['Text'].notnull(), :].index\n",
    "textfull1 = textset.dropna()\n",
    "textfull = copy.deepcopy(textfull1)\n",
    "textfull.reset_index(inplace=True, drop=True)\n",
    "#print(textfull.dtypes)\n",
    "#print(textfull.loc[11603])"
   ]
  },
  {
   "cell_type": "code",
   "execution_count": 98,
   "metadata": {},
   "outputs": [],
   "source": [
    "# Numbers removing\n",
    "import re\n",
    "p = re.compile(r'\\d+')\n",
    "#summaryfull['Summary'] = [p.sub('', x) for x in summaryfull['Summary'].tolist()]\n",
    "textfull['Text'] = [p.sub('', x) for x in textfull['Text'].tolist()]"
   ]
  },
  {
   "cell_type": "code",
   "execution_count": 9,
   "metadata": {},
   "outputs": [
    {
     "data": {
      "text/html": [
       "<div>\n",
       "<style scoped>\n",
       "    .dataframe tbody tr th:only-of-type {\n",
       "        vertical-align: middle;\n",
       "    }\n",
       "\n",
       "    .dataframe tbody tr th {\n",
       "        vertical-align: top;\n",
       "    }\n",
       "\n",
       "    .dataframe thead th {\n",
       "        text-align: right;\n",
       "    }\n",
       "</style>\n",
       "<table border=\"1\" class=\"dataframe\">\n",
       "  <thead>\n",
       "    <tr style=\"text-align: right;\">\n",
       "      <th></th>\n",
       "      <th>Id</th>\n",
       "      <th>Summary</th>\n",
       "    </tr>\n",
       "  </thead>\n",
       "  <tbody>\n",
       "    <tr>\n",
       "      <th>0</th>\n",
       "      <td>0</td>\n",
       "      <td>good version of a classic</td>\n",
       "    </tr>\n",
       "    <tr>\n",
       "      <th>1</th>\n",
       "      <td>1</td>\n",
       "      <td>Good but not as moving</td>\n",
       "    </tr>\n",
       "    <tr>\n",
       "      <th>2</th>\n",
       "      <td>2</td>\n",
       "      <td>Winkler's Performance was ok at best!</td>\n",
       "    </tr>\n",
       "    <tr>\n",
       "      <th>3</th>\n",
       "      <td>3</td>\n",
       "      <td>It's an enjoyable twist on the classic story</td>\n",
       "    </tr>\n",
       "    <tr>\n",
       "      <th>4</th>\n",
       "      <td>4</td>\n",
       "      <td>Best Scrooge yet</td>\n",
       "    </tr>\n",
       "  </tbody>\n",
       "</table>\n",
       "</div>"
      ],
      "text/plain": [
       "   Id                                       Summary\n",
       "0   0                     good version of a classic\n",
       "1   1                        Good but not as moving\n",
       "2   2         Winkler's Performance was ok at best!\n",
       "3   3  It's an enjoyable twist on the classic story\n",
       "4   4                              Best Scrooge yet"
      ]
     },
     "execution_count": 9,
     "metadata": {},
     "output_type": "execute_result"
    }
   ],
   "source": [
    "textfull.head()"
   ]
  },
  {
   "cell_type": "code",
   "execution_count": 10,
   "metadata": {},
   "outputs": [],
   "source": [
    "#Lowercase and split\n",
    "import re\n",
    "p = re.compile(r'[^\\w\\s]+')\n",
    "#summaryfull['Summary'] = [p.sub('', x) for x in summaryfull['Summary'].tolist()]\n",
    "#summaryfull['Summary'] = summaryfull['Summary'].str.lower().str.split()\n",
    "textfull['Text'] = [p.sub('', x) for x in textfull['Text'].tolist()]\n",
    "textfull['Text'] = textfull['Text'].str.lower().str.split()"
   ]
  },
  {
   "cell_type": "code",
   "execution_count": 11,
   "metadata": {},
   "outputs": [
    {
     "data": {
      "text/html": [
       "<div>\n",
       "<style scoped>\n",
       "    .dataframe tbody tr th:only-of-type {\n",
       "        vertical-align: middle;\n",
       "    }\n",
       "\n",
       "    .dataframe tbody tr th {\n",
       "        vertical-align: top;\n",
       "    }\n",
       "\n",
       "    .dataframe thead th {\n",
       "        text-align: right;\n",
       "    }\n",
       "</style>\n",
       "<table border=\"1\" class=\"dataframe\">\n",
       "  <thead>\n",
       "    <tr style=\"text-align: right;\">\n",
       "      <th></th>\n",
       "      <th>Id</th>\n",
       "      <th>Summary</th>\n",
       "    </tr>\n",
       "  </thead>\n",
       "  <tbody>\n",
       "    <tr>\n",
       "      <th>0</th>\n",
       "      <td>0</td>\n",
       "      <td>[good, version, of, a, classic]</td>\n",
       "    </tr>\n",
       "    <tr>\n",
       "      <th>1</th>\n",
       "      <td>1</td>\n",
       "      <td>[good, but, not, as, moving]</td>\n",
       "    </tr>\n",
       "    <tr>\n",
       "      <th>2</th>\n",
       "      <td>2</td>\n",
       "      <td>[winklers, performance, was, ok, at, best]</td>\n",
       "    </tr>\n",
       "    <tr>\n",
       "      <th>3</th>\n",
       "      <td>3</td>\n",
       "      <td>[its, an, enjoyable, twist, on, the, classic, ...</td>\n",
       "    </tr>\n",
       "    <tr>\n",
       "      <th>4</th>\n",
       "      <td>4</td>\n",
       "      <td>[best, scrooge, yet]</td>\n",
       "    </tr>\n",
       "  </tbody>\n",
       "</table>\n",
       "</div>"
      ],
      "text/plain": [
       "   Id                                            Summary\n",
       "0   0                    [good, version, of, a, classic]\n",
       "1   1                       [good, but, not, as, moving]\n",
       "2   2         [winklers, performance, was, ok, at, best]\n",
       "3   3  [its, an, enjoyable, twist, on, the, classic, ...\n",
       "4   4                               [best, scrooge, yet]"
      ]
     },
     "execution_count": 11,
     "metadata": {},
     "output_type": "execute_result"
    }
   ],
   "source": [
    "textfull.head()"
   ]
  },
  {
   "cell_type": "code",
   "execution_count": 12,
   "metadata": {},
   "outputs": [],
   "source": [
    "#Delete stop words\n",
    "stop_words = set(stopwords.words('english'))\n",
    "#summaryfull['Summary'] = summaryfull['Summary'].apply(lambda x: [item for item in x if item not in stop_words])\n",
    "textfull['Text'] = textfull['Text'].apply(lambda x: [item for item in x if item not in stop_words])"
   ]
  },
  {
   "cell_type": "code",
   "execution_count": 13,
   "metadata": {},
   "outputs": [
    {
     "data": {
      "text/html": [
       "<div>\n",
       "<style scoped>\n",
       "    .dataframe tbody tr th:only-of-type {\n",
       "        vertical-align: middle;\n",
       "    }\n",
       "\n",
       "    .dataframe tbody tr th {\n",
       "        vertical-align: top;\n",
       "    }\n",
       "\n",
       "    .dataframe thead th {\n",
       "        text-align: right;\n",
       "    }\n",
       "</style>\n",
       "<table border=\"1\" class=\"dataframe\">\n",
       "  <thead>\n",
       "    <tr style=\"text-align: right;\">\n",
       "      <th></th>\n",
       "      <th>Id</th>\n",
       "      <th>Summary</th>\n",
       "    </tr>\n",
       "  </thead>\n",
       "  <tbody>\n",
       "    <tr>\n",
       "      <th>0</th>\n",
       "      <td>0</td>\n",
       "      <td>[good, version, classic]</td>\n",
       "    </tr>\n",
       "    <tr>\n",
       "      <th>1</th>\n",
       "      <td>1</td>\n",
       "      <td>[good, moving]</td>\n",
       "    </tr>\n",
       "    <tr>\n",
       "      <th>2</th>\n",
       "      <td>2</td>\n",
       "      <td>[winklers, performance, ok, best]</td>\n",
       "    </tr>\n",
       "    <tr>\n",
       "      <th>3</th>\n",
       "      <td>3</td>\n",
       "      <td>[enjoyable, twist, classic, story]</td>\n",
       "    </tr>\n",
       "    <tr>\n",
       "      <th>4</th>\n",
       "      <td>4</td>\n",
       "      <td>[best, scrooge, yet]</td>\n",
       "    </tr>\n",
       "  </tbody>\n",
       "</table>\n",
       "</div>"
      ],
      "text/plain": [
       "   Id                             Summary\n",
       "0   0            [good, version, classic]\n",
       "1   1                      [good, moving]\n",
       "2   2   [winklers, performance, ok, best]\n",
       "3   3  [enjoyable, twist, classic, story]\n",
       "4   4                [best, scrooge, yet]"
      ]
     },
     "execution_count": 13,
     "metadata": {},
     "output_type": "execute_result"
    }
   ],
   "source": [
    "textfull.head()"
   ]
  },
  {
   "cell_type": "code",
   "execution_count": 15,
   "metadata": {},
   "outputs": [],
   "source": [
    "#Stemming\n",
    "from nltk.stem import PorterStemmer\n",
    "from nltk.tokenize import word_tokenize\n",
    "stemmer= PorterStemmer()\n",
    "#summaryfull['Summary'] = summaryfull['Summary'].apply(lambda x: [stemmer.stem(y) for y in x])\n",
    "textfull['Text'] = textfull['Text'].apply(lambda x: [stemmer.stem(y) for y in x])"
   ]
  },
  {
   "cell_type": "code",
   "execution_count": 16,
   "metadata": {},
   "outputs": [
    {
     "data": {
      "text/html": [
       "<div>\n",
       "<style scoped>\n",
       "    .dataframe tbody tr th:only-of-type {\n",
       "        vertical-align: middle;\n",
       "    }\n",
       "\n",
       "    .dataframe tbody tr th {\n",
       "        vertical-align: top;\n",
       "    }\n",
       "\n",
       "    .dataframe thead th {\n",
       "        text-align: right;\n",
       "    }\n",
       "</style>\n",
       "<table border=\"1\" class=\"dataframe\">\n",
       "  <thead>\n",
       "    <tr style=\"text-align: right;\">\n",
       "      <th></th>\n",
       "      <th>Id</th>\n",
       "      <th>Summary</th>\n",
       "    </tr>\n",
       "  </thead>\n",
       "  <tbody>\n",
       "    <tr>\n",
       "      <th>0</th>\n",
       "      <td>0</td>\n",
       "      <td>[good, version, classic]</td>\n",
       "    </tr>\n",
       "    <tr>\n",
       "      <th>1</th>\n",
       "      <td>1</td>\n",
       "      <td>[good, move]</td>\n",
       "    </tr>\n",
       "    <tr>\n",
       "      <th>2</th>\n",
       "      <td>2</td>\n",
       "      <td>[winkler, perform, ok, best]</td>\n",
       "    </tr>\n",
       "    <tr>\n",
       "      <th>3</th>\n",
       "      <td>3</td>\n",
       "      <td>[enjoy, twist, classic, stori]</td>\n",
       "    </tr>\n",
       "    <tr>\n",
       "      <th>4</th>\n",
       "      <td>4</td>\n",
       "      <td>[best, scroog, yet]</td>\n",
       "    </tr>\n",
       "  </tbody>\n",
       "</table>\n",
       "</div>"
      ],
      "text/plain": [
       "   Id                         Summary\n",
       "0   0        [good, version, classic]\n",
       "1   1                    [good, move]\n",
       "2   2    [winkler, perform, ok, best]\n",
       "3   3  [enjoy, twist, classic, stori]\n",
       "4   4             [best, scroog, yet]"
      ]
     },
     "execution_count": 16,
     "metadata": {},
     "output_type": "execute_result"
    }
   ],
   "source": [
    "textfull.head()"
   ]
  },
  {
   "cell_type": "code",
   "execution_count": 17,
   "metadata": {},
   "outputs": [],
   "source": [
    "#summaryfull['Summary'] = summaryfull['Summary'].apply(', '.join)\n",
    "textfull['Text'] = textfull['Text'].apply(', '.join)"
   ]
  },
  {
   "cell_type": "code",
   "execution_count": 18,
   "metadata": {},
   "outputs": [
    {
     "data": {
      "text/html": [
       "<div>\n",
       "<style scoped>\n",
       "    .dataframe tbody tr th:only-of-type {\n",
       "        vertical-align: middle;\n",
       "    }\n",
       "\n",
       "    .dataframe tbody tr th {\n",
       "        vertical-align: top;\n",
       "    }\n",
       "\n",
       "    .dataframe thead th {\n",
       "        text-align: right;\n",
       "    }\n",
       "</style>\n",
       "<table border=\"1\" class=\"dataframe\">\n",
       "  <thead>\n",
       "    <tr style=\"text-align: right;\">\n",
       "      <th></th>\n",
       "      <th>Id</th>\n",
       "      <th>Summary</th>\n",
       "    </tr>\n",
       "  </thead>\n",
       "  <tbody>\n",
       "    <tr>\n",
       "      <th>0</th>\n",
       "      <td>0</td>\n",
       "      <td>good, version, classic</td>\n",
       "    </tr>\n",
       "    <tr>\n",
       "      <th>1</th>\n",
       "      <td>1</td>\n",
       "      <td>good, move</td>\n",
       "    </tr>\n",
       "    <tr>\n",
       "      <th>2</th>\n",
       "      <td>2</td>\n",
       "      <td>winkler, perform, ok, best</td>\n",
       "    </tr>\n",
       "    <tr>\n",
       "      <th>3</th>\n",
       "      <td>3</td>\n",
       "      <td>enjoy, twist, classic, stori</td>\n",
       "    </tr>\n",
       "    <tr>\n",
       "      <th>4</th>\n",
       "      <td>4</td>\n",
       "      <td>best, scroog, yet</td>\n",
       "    </tr>\n",
       "  </tbody>\n",
       "</table>\n",
       "</div>"
      ],
      "text/plain": [
       "   Id                       Summary\n",
       "0   0        good, version, classic\n",
       "1   1                    good, move\n",
       "2   2    winkler, perform, ok, best\n",
       "3   3  enjoy, twist, classic, stori\n",
       "4   4             best, scroog, yet"
      ]
     },
     "execution_count": 18,
     "metadata": {},
     "output_type": "execute_result"
    }
   ],
   "source": [
    "textfull.head()"
   ]
  },
  {
   "cell_type": "code",
   "execution_count": 19,
   "metadata": {},
   "outputs": [],
   "source": [
    "p1 = re.compile(r'[^\\w\\s]+')\n",
    "#summaryfull['Summary'] = [p1.sub('', x) for x in summaryfull['Summary'].tolist()]\n",
    "#summaryfull['Summary'] = summaryfull['Summary'].str.lower()\n",
    "textfull['Text'] = [p1.sub('', x) for x in textfull['Text'].tolist()]\n",
    "textfull['Text'] = textfull['Text'].str.lower()"
   ]
  },
  {
   "cell_type": "code",
   "execution_count": 20,
   "metadata": {},
   "outputs": [
    {
     "data": {
      "text/html": [
       "<div>\n",
       "<style scoped>\n",
       "    .dataframe tbody tr th:only-of-type {\n",
       "        vertical-align: middle;\n",
       "    }\n",
       "\n",
       "    .dataframe tbody tr th {\n",
       "        vertical-align: top;\n",
       "    }\n",
       "\n",
       "    .dataframe thead th {\n",
       "        text-align: right;\n",
       "    }\n",
       "</style>\n",
       "<table border=\"1\" class=\"dataframe\">\n",
       "  <thead>\n",
       "    <tr style=\"text-align: right;\">\n",
       "      <th></th>\n",
       "      <th>Id</th>\n",
       "      <th>Summary</th>\n",
       "    </tr>\n",
       "  </thead>\n",
       "  <tbody>\n",
       "    <tr>\n",
       "      <th>0</th>\n",
       "      <td>0</td>\n",
       "      <td>good version classic</td>\n",
       "    </tr>\n",
       "    <tr>\n",
       "      <th>1</th>\n",
       "      <td>1</td>\n",
       "      <td>good move</td>\n",
       "    </tr>\n",
       "    <tr>\n",
       "      <th>2</th>\n",
       "      <td>2</td>\n",
       "      <td>winkler perform ok best</td>\n",
       "    </tr>\n",
       "    <tr>\n",
       "      <th>3</th>\n",
       "      <td>3</td>\n",
       "      <td>enjoy twist classic stori</td>\n",
       "    </tr>\n",
       "    <tr>\n",
       "      <th>4</th>\n",
       "      <td>4</td>\n",
       "      <td>best scroog yet</td>\n",
       "    </tr>\n",
       "  </tbody>\n",
       "</table>\n",
       "</div>"
      ],
      "text/plain": [
       "   Id                    Summary\n",
       "0   0       good version classic\n",
       "1   1                  good move\n",
       "2   2    winkler perform ok best\n",
       "3   3  enjoy twist classic stori\n",
       "4   4            best scroog yet"
      ]
     },
     "execution_count": 20,
     "metadata": {},
     "output_type": "execute_result"
    }
   ],
   "source": [
    "textfull.head()"
   ]
  },
  {
   "cell_type": "code",
   "execution_count": 6,
   "metadata": {},
   "outputs": [],
   "source": [
    "#textfull.to_csv('textfull.csv')"
   ]
  },
  {
   "cell_type": "markdown",
   "metadata": {},
   "source": [
    "# Train Model"
   ]
  },
  {
   "cell_type": "code",
   "execution_count": 62,
   "metadata": {},
   "outputs": [],
   "source": [
    "textfull = pd.read_csv('textfull.csv')"
   ]
  },
  {
   "cell_type": "code",
   "execution_count": 63,
   "metadata": {},
   "outputs": [],
   "source": [
    "summaryfull = pd.read_csv('summaryfull.csv')"
   ]
  },
  {
   "cell_type": "code",
   "execution_count": 64,
   "metadata": {},
   "outputs": [],
   "source": [
    "textfull=pd.concat([textfull,trainset.loc[:, ('UserId', 'ProductId','HelpfulnessNumerator','HelpfulnessDenominator', 'Score')]],axis=1)"
   ]
  },
  {
   "cell_type": "code",
   "execution_count": 65,
   "metadata": {
    "scrolled": true
   },
   "outputs": [
    {
     "name": "stdout",
     "output_type": "stream",
     "text": [
      "<class 'pandas.core.frame.DataFrame'>\n",
      "RangeIndex: 1697533 entries, 0 to 1697532\n",
      "Data columns (total 9 columns):\n",
      " #   Column                  Dtype   \n",
      "---  ------                  -----   \n",
      " 0   Unnamed: 0              int64   \n",
      " 1   Id                      int64   \n",
      " 2   Text                    object  \n",
      " 3   UserId                  category\n",
      " 4   ProductId               category\n",
      " 5   HelpfulnessNumerator    int64   \n",
      " 6   HelpfulnessDenominator  int64   \n",
      " 7   Time                    int64   \n",
      " 8   Score                   float64 \n",
      "dtypes: category(2), float64(1), int64(5), object(1)\n",
      "memory usage: 111.2+ MB\n",
      "         Unnamed: 0       Id Text  UserId ProductId  HelpfulnessNumerator  \\\n",
      "9208           9208     9208  NaN    1212       155                     0   \n",
      "55514         55514    55514  NaN   28824       801                     0   \n",
      "123050       123050   123050  NaN   43707      1486                     0   \n",
      "209778       209778   209778  NaN   66979      3124                     0   \n",
      "300091       300091   300091  NaN   59762      5131                     0   \n",
      "313101       313101   313101  NaN   11971      5513                     0   \n",
      "619194       619194   619194  NaN   99530     13562                     0   \n",
      "707654       707654   707654  NaN   17076     15818                     0   \n",
      "805439       805439   805439  NaN   43970     19924                     0   \n",
      "1233308     1233308  1233308  NaN   63603     36620                     0   \n",
      "1339594     1339594  1339594  NaN    6890     40092                     0   \n",
      "1353721     1353721  1353721  NaN   63603     40407                     0   \n",
      "1382052     1382052  1382052  NaN  106881     41378                     0   \n",
      "1407560     1407560  1407560  NaN  121698     42192                     0   \n",
      "1417985     1417985  1417985  NaN   49957     42455                     0   \n",
      "1473904     1473904  1473904  NaN  120868     44154                     1   \n",
      "1521561     1521561  1521561  NaN   14062     45139                     0   \n",
      "1570204     1570204  1570204  NaN   75396     46453                     0   \n",
      "1575771     1575771  1575771  NaN  120440     46628                     0   \n",
      "1587707     1587707  1587707  NaN   92317     46909                     1   \n",
      "1595917     1595917  1595917  NaN   11971     47008                     0   \n",
      "1621124     1621124  1621124  NaN  121698     47785                     0   \n",
      "1633125     1633125  1633125  NaN   93108     47995                     0   \n",
      "1690510     1690510  1690510  NaN   91376     49728                     0   \n",
      "\n",
      "         HelpfulnessDenominator        Time  Score  \n",
      "9208                          0  1404777600    5.0  \n",
      "55514                         1  1362441600    5.0  \n",
      "123050                        0  1404950400    5.0  \n",
      "209778                        0  1404691200    2.0  \n",
      "300091                        0  1404864000    4.0  \n",
      "313101                        0  1403913600    5.0  \n",
      "619194                        0  1405296000    5.0  \n",
      "707654                        0  1404777600    4.0  \n",
      "805439                        1  1404950400    NaN  \n",
      "1233308                       0  1405296000    NaN  \n",
      "1339594                       1  1404345600    1.0  \n",
      "1353721                       0  1405296000    1.0  \n",
      "1382052                       0  1404777600    2.0  \n",
      "1407560                       0  1404950400    5.0  \n",
      "1417985                       0  1404777600    5.0  \n",
      "1473904                       2  1349481600    2.0  \n",
      "1521561                       0  1366502400    5.0  \n",
      "1570204                       0  1405296000    2.0  \n",
      "1575771                       0  1404259200    NaN  \n",
      "1587707                       4  1404691200    5.0  \n",
      "1595917                       0  1403913600    5.0  \n",
      "1621124                       0  1404950400    NaN  \n",
      "1633125                       1  1404086400    1.0  \n",
      "1690510                       0  1404604800    3.0  \n",
      "(1697533, 9)\n"
     ]
    }
   ],
   "source": [
    "textfull.info()\n",
    "textfull.isna().sum()\n",
    "null_index_textfull = textfull.loc[textfull['Text'].isnull(), :].index\n",
    "textfullempty = textfull.iloc[null_index_textfull]\n",
    "print(textfullempty)\n",
    "print(textfull.shape)"
   ]
  },
  {
   "cell_type": "code",
   "execution_count": 66,
   "metadata": {},
   "outputs": [
    {
     "data": {
      "text/plain": [
       "Unnamed: 0                     0\n",
       "Id                             0\n",
       "Text                           0\n",
       "UserId                         0\n",
       "ProductId                      0\n",
       "HelpfulnessNumerator           0\n",
       "HelpfulnessDenominator         0\n",
       "Time                           0\n",
       "Score                     299996\n",
       "dtype: int64"
      ]
     },
     "execution_count": 66,
     "metadata": {},
     "output_type": "execute_result"
    }
   ],
   "source": [
    "textfull.dropna(subset = ['Text'],inplace = True)\n",
    "textfull.reset_index(inplace=True, drop=True)\n",
    "textfull.isna().sum()"
   ]
  },
  {
   "cell_type": "code",
   "execution_count": 68,
   "metadata": {},
   "outputs": [
    {
     "name": "stdout",
     "output_type": "stream",
     "text": [
      "Int64Index([      0,       1,       2,       3,       4,       6,       7,\n",
      "                  8,       9,      10,\n",
      "            ...\n",
      "            1697492, 1697495, 1697497, 1697499, 1697501, 1697502, 1697505,\n",
      "            1697506, 1697507, 1697508],\n",
      "           dtype='int64', length=1397513)\n"
     ]
    }
   ],
   "source": [
    "not_index = textfull.loc[textfull['Score'].notnull(), :].index\n",
    "print(not_index)\n",
    "empty = trainset.iloc[not_index]\n",
    "#print(empty)\n",
    "textfull1 = textfull.iloc[not_index]\n",
    "X_train = textfull1['Text']\n",
    "y_train = textfull1['Score']"
   ]
  },
  {
   "cell_type": "code",
   "execution_count": 69,
   "metadata": {},
   "outputs": [
    {
     "name": "stdout",
     "output_type": "stream",
     "text": [
      "   Unnamed: 0  Id                                               Text UserId  \\\n",
      "0           0   0  charm version classic dicken tale henri winkle...      1   \n",
      "1           1   1  good emot move christma carol dicken like chri...      2   \n",
      "2           2   2  dont get wrong winkler wonder charact actor wo...      3   \n",
      "3           3   3  henri winkler good twist classic stori convent...      4   \n",
      "4           4   4  one best scroog movi henri winkler outdo cast ...      5   \n",
      "\n",
      "  ProductId  HelpfulnessNumerator  HelpfulnessDenominator        Time  Score  \n",
      "0         1                     0                       0  1203984000    4.0  \n",
      "1         1                     0                       0  1388361600    3.0  \n",
      "2         1                     0                       0  1388361600    3.0  \n",
      "3         1                     0                       0  1202860800    5.0  \n",
      "4         1                     0                       0  1387670400    4.0  \n"
     ]
    }
   ],
   "source": [
    "print(textfull1.head())"
   ]
  },
  {
   "cell_type": "code",
   "execution_count": 20,
   "metadata": {},
   "outputs": [],
   "source": [
    "from sklearn.feature_extraction.text import TfidfVectorizer\n",
    "vectorizer = TfidfVectorizer()\n",
    "vectorizer.fit(X_train)\n",
    "X = vectorizer.transform(X_train)"
   ]
  },
  {
   "cell_type": "code",
   "execution_count": 71,
   "metadata": {},
   "outputs": [],
   "source": [
    "import numpy as np\n",
    "from scipy.sparse import csr_matrix, vstack, hstack\n",
    "add_csr = textfull1.loc[:, ('UserId', 'ProductId','HelpfulnessNumerator','HelpfulnessDenominator')].astype(int)\n",
    "add_csr2 = add_csr.to_numpy()\n",
    "text_add_csr = csr_matrix(add_csr2)"
   ]
  },
  {
   "cell_type": "code",
   "execution_count": 73,
   "metadata": {},
   "outputs": [],
   "source": [
    "Xall = hstack((text_add_csr, X))"
   ]
  },
  {
   "cell_type": "code",
   "execution_count": 75,
   "metadata": {},
   "outputs": [],
   "source": [
    "Xall = csr_matrix(Xall)"
   ]
  },
  {
   "cell_type": "code",
   "execution_count": 77,
   "metadata": {},
   "outputs": [],
   "source": [
    "yall = y_train.to_numpy()"
   ]
  },
  {
   "cell_type": "code",
   "execution_count": 79,
   "metadata": {},
   "outputs": [],
   "source": [
    "from sklearn.model_selection import KFold\n",
    "from sklearn.svm import LinearSVC"
   ]
  },
  {
   "cell_type": "code",
   "execution_count": 80,
   "metadata": {},
   "outputs": [],
   "source": [
    "def accuracy(predictions,y_true):\n",
    "    return np.sum(predictions==y_true)/len(y_true)"
   ]
  },
  {
   "cell_type": "markdown",
   "metadata": {},
   "source": [
    "**Linear regression**"
   ]
  },
  {
   "cell_type": "code",
   "execution_count": 82,
   "metadata": {},
   "outputs": [
    {
     "data": {
      "text/plain": [
       "0.02006821882629406"
      ]
     },
     "execution_count": 82,
     "metadata": {},
     "output_type": "execute_result"
    }
   ],
   "source": [
    "from sklearn.linear_model import LinearRegression\n",
    "reg = LinearRegression().fit(Xall, yall)\n",
    "reg.score(Xall, yall)"
   ]
  },
  {
   "cell_type": "code",
   "execution_count": 112,
   "metadata": {},
   "outputs": [
    {
     "name": "stdout",
     "output_type": "stream",
     "text": [
      "KFold(n_splits=5, random_state=None, shuffle=False)\n",
      "0.0\n",
      "0.0\n",
      "0.0\n",
      "0.0\n",
      "0.0\n",
      "0.0\n"
     ]
    }
   ],
   "source": [
    "from sklearn.linear_model import LinearRegression\n",
    "kf = KFold(n_splits=5)\n",
    "kf.get_n_splits(X)\n",
    "print(kf)\n",
    "KFold(n_splits=5, random_state=None, shuffle=False)\n",
    "acc = 0\n",
    "for train_index, test_index in kf.split(X):\n",
    "    Xall_train, Xall_test = Xall[train_index], Xall[test_index]\n",
    "    yall_train, yall_test = yall[train_index], yall[test_index]\n",
    "    reg = LinearRegression().fit(Xall_train, yall_train)\n",
    "    reg.score(Xall_train, yall_train)\n",
    "    predictions=reg.predict(Xall_test)\n",
    "    acc += accuracy(predictions,yall_test)\n",
    "    print(acc)\n",
    "print(acc/5)"
   ]
  },
  {
   "cell_type": "markdown",
   "metadata": {},
   "source": [
    "**naive_bayes_MultinomialNB**"
   ]
  },
  {
   "cell_type": "code",
   "execution_count": 31,
   "metadata": {},
   "outputs": [],
   "source": [
    "from sklearn.naive_bayes import MultinomialNB\n",
    "mnb = MultinomialNB().fit(Xall, yall)"
   ]
  },
  {
   "cell_type": "markdown",
   "metadata": {},
   "source": [
    "**Ridge**"
   ]
  },
  {
   "cell_type": "code",
   "execution_count": 61,
   "metadata": {},
   "outputs": [
    {
     "name": "stdout",
     "output_type": "stream",
     "text": [
      "0.7857460118595827\n"
     ]
    }
   ],
   "source": [
    "from sklearn.linear_model import Ridge\n",
    "ridge = Ridge(alpha=0.05, normalize=True).fit(Xall, yall)\n",
    "print(ridge.score(Xall, yall))"
   ]
  },
  {
   "cell_type": "markdown",
   "metadata": {},
   "source": [
    "**Decision Tree**"
   ]
  },
  {
   "cell_type": "code",
   "execution_count": null,
   "metadata": {},
   "outputs": [],
   "source": [
    "from sklearn import tree\n",
    "dt = tree.DecisionTreeClassifier(random_state = 0, max_depth=20).fit(Xall, yall)"
   ]
  },
  {
   "cell_type": "markdown",
   "metadata": {},
   "source": [
    "**Random Forest**"
   ]
  },
  {
   "cell_type": "code",
   "execution_count": null,
   "metadata": {},
   "outputs": [],
   "source": [
    "from sklearn.ensemble import RandomForestClassifier\n",
    "rfc = RandomForestClassifier(max_depth=20, random_state=0).fit(Xall, yall)"
   ]
  },
  {
   "cell_type": "markdown",
   "metadata": {},
   "source": [
    "**SVM**"
   ]
  },
  {
   "cell_type": "code",
   "execution_count": 36,
   "metadata": {},
   "outputs": [
    {
     "name": "stdout",
     "output_type": "stream",
     "text": [
      "KFold(n_splits=5, random_state=None, shuffle=False)\n"
     ]
    }
   ],
   "source": [
    "kf = KFold(n_splits=5)\n",
    "kf.get_n_splits(X)\n",
    "print(kf)"
   ]
  },
  {
   "cell_type": "code",
   "execution_count": 38,
   "metadata": {},
   "outputs": [
    {
     "name": "stdout",
     "output_type": "stream",
     "text": [
      "0.645832066203225\n",
      "1.2452496037609615\n",
      "1.8525990776485406\n",
      "2.4708379453489506\n",
      "3.0859569784864593\n",
      "0.6171913956972919\n"
     ]
    }
   ],
   "source": [
    "KFold(n_splits=5, random_state=None, shuffle=False)\n",
    "acc = 0\n",
    "for train_index, test_index in kf.split(X):\n",
    "    Xall_train, Xall_test = Xall[train_index], Xall[test_index]\n",
    "    yall_train, yall_test = yall[train_index], yall[test_index]\n",
    "    clf = LinearSVC(dual=False,penalty='l1')\n",
    "    clf.fit(Xall_train, yall_train)\n",
    "    predictions=clf.predict(Xall_test)\n",
    "    acc += accuracy(predictions,yall_test)\n",
    "    print(acc)\n",
    "print(acc/5)"
   ]
  },
  {
   "cell_type": "markdown",
   "metadata": {},
   "source": [
    "# Real Predict"
   ]
  },
  {
   "cell_type": "code",
   "execution_count": 83,
   "metadata": {},
   "outputs": [
    {
     "name": "stdout",
     "output_type": "stream",
     "text": [
      "(1697533, 3)\n"
     ]
    }
   ],
   "source": [
    "textfull2 = pd.read_csv('textfull.csv')\n",
    "print(textfull2.shape)"
   ]
  },
  {
   "cell_type": "code",
   "execution_count": 84,
   "metadata": {},
   "outputs": [
    {
     "data": {
      "text/html": [
       "<div>\n",
       "<style scoped>\n",
       "    .dataframe tbody tr th:only-of-type {\n",
       "        vertical-align: middle;\n",
       "    }\n",
       "\n",
       "    .dataframe tbody tr th {\n",
       "        vertical-align: top;\n",
       "    }\n",
       "\n",
       "    .dataframe thead th {\n",
       "        text-align: right;\n",
       "    }\n",
       "</style>\n",
       "<table border=\"1\" class=\"dataframe\">\n",
       "  <thead>\n",
       "    <tr style=\"text-align: right;\">\n",
       "      <th></th>\n",
       "      <th>Unnamed: 0</th>\n",
       "      <th>Id</th>\n",
       "      <th>Text</th>\n",
       "    </tr>\n",
       "  </thead>\n",
       "  <tbody>\n",
       "    <tr>\n",
       "      <th>0</th>\n",
       "      <td>0</td>\n",
       "      <td>0</td>\n",
       "      <td>charm version classic dicken tale henri winkle...</td>\n",
       "    </tr>\n",
       "    <tr>\n",
       "      <th>1</th>\n",
       "      <td>1</td>\n",
       "      <td>1</td>\n",
       "      <td>good emot move christma carol dicken like chri...</td>\n",
       "    </tr>\n",
       "    <tr>\n",
       "      <th>2</th>\n",
       "      <td>2</td>\n",
       "      <td>2</td>\n",
       "      <td>dont get wrong winkler wonder charact actor wo...</td>\n",
       "    </tr>\n",
       "    <tr>\n",
       "      <th>3</th>\n",
       "      <td>3</td>\n",
       "      <td>3</td>\n",
       "      <td>henri winkler good twist classic stori convent...</td>\n",
       "    </tr>\n",
       "    <tr>\n",
       "      <th>4</th>\n",
       "      <td>4</td>\n",
       "      <td>4</td>\n",
       "      <td>one best scroog movi henri winkler outdo cast ...</td>\n",
       "    </tr>\n",
       "  </tbody>\n",
       "</table>\n",
       "</div>"
      ],
      "text/plain": [
       "   Unnamed: 0  Id                                               Text\n",
       "0           0   0  charm version classic dicken tale henri winkle...\n",
       "1           1   1  good emot move christma carol dicken like chri...\n",
       "2           2   2  dont get wrong winkler wonder charact actor wo...\n",
       "3           3   3  henri winkler good twist classic stori convent...\n",
       "4           4   4  one best scroog movi henri winkler outdo cast ..."
      ]
     },
     "execution_count": 84,
     "metadata": {},
     "output_type": "execute_result"
    }
   ],
   "source": [
    "textfull2.head()"
   ]
  },
  {
   "cell_type": "code",
   "execution_count": 85,
   "metadata": {},
   "outputs": [],
   "source": [
    "textfull2=pd.concat([textfull2,trainset.loc[:, ('UserId', 'ProductId','HelpfulnessNumerator','HelpfulnessDenominator')]],axis=1)"
   ]
  },
  {
   "cell_type": "code",
   "execution_count": 86,
   "metadata": {},
   "outputs": [
    {
     "data": {
      "text/html": [
       "<div>\n",
       "<style scoped>\n",
       "    .dataframe tbody tr th:only-of-type {\n",
       "        vertical-align: middle;\n",
       "    }\n",
       "\n",
       "    .dataframe tbody tr th {\n",
       "        vertical-align: top;\n",
       "    }\n",
       "\n",
       "    .dataframe thead th {\n",
       "        text-align: right;\n",
       "    }\n",
       "</style>\n",
       "<table border=\"1\" class=\"dataframe\">\n",
       "  <thead>\n",
       "    <tr style=\"text-align: right;\">\n",
       "      <th></th>\n",
       "      <th>Unnamed: 0</th>\n",
       "      <th>Id</th>\n",
       "      <th>Text</th>\n",
       "      <th>UserId</th>\n",
       "      <th>ProductId</th>\n",
       "      <th>HelpfulnessNumerator</th>\n",
       "      <th>HelpfulnessDenominator</th>\n",
       "      <th>Time</th>\n",
       "    </tr>\n",
       "  </thead>\n",
       "  <tbody>\n",
       "    <tr>\n",
       "      <th>0</th>\n",
       "      <td>0</td>\n",
       "      <td>0</td>\n",
       "      <td>charm version classic dicken tale henri winkle...</td>\n",
       "      <td>1</td>\n",
       "      <td>1</td>\n",
       "      <td>0</td>\n",
       "      <td>0</td>\n",
       "      <td>1203984000</td>\n",
       "    </tr>\n",
       "    <tr>\n",
       "      <th>1</th>\n",
       "      <td>1</td>\n",
       "      <td>1</td>\n",
       "      <td>good emot move christma carol dicken like chri...</td>\n",
       "      <td>2</td>\n",
       "      <td>1</td>\n",
       "      <td>0</td>\n",
       "      <td>0</td>\n",
       "      <td>1388361600</td>\n",
       "    </tr>\n",
       "    <tr>\n",
       "      <th>2</th>\n",
       "      <td>2</td>\n",
       "      <td>2</td>\n",
       "      <td>dont get wrong winkler wonder charact actor wo...</td>\n",
       "      <td>3</td>\n",
       "      <td>1</td>\n",
       "      <td>0</td>\n",
       "      <td>0</td>\n",
       "      <td>1388361600</td>\n",
       "    </tr>\n",
       "    <tr>\n",
       "      <th>3</th>\n",
       "      <td>3</td>\n",
       "      <td>3</td>\n",
       "      <td>henri winkler good twist classic stori convent...</td>\n",
       "      <td>4</td>\n",
       "      <td>1</td>\n",
       "      <td>0</td>\n",
       "      <td>0</td>\n",
       "      <td>1202860800</td>\n",
       "    </tr>\n",
       "    <tr>\n",
       "      <th>4</th>\n",
       "      <td>4</td>\n",
       "      <td>4</td>\n",
       "      <td>one best scroog movi henri winkler outdo cast ...</td>\n",
       "      <td>5</td>\n",
       "      <td>1</td>\n",
       "      <td>0</td>\n",
       "      <td>0</td>\n",
       "      <td>1387670400</td>\n",
       "    </tr>\n",
       "  </tbody>\n",
       "</table>\n",
       "</div>"
      ],
      "text/plain": [
       "   Unnamed: 0  Id                                               Text UserId  \\\n",
       "0           0   0  charm version classic dicken tale henri winkle...      1   \n",
       "1           1   1  good emot move christma carol dicken like chri...      2   \n",
       "2           2   2  dont get wrong winkler wonder charact actor wo...      3   \n",
       "3           3   3  henri winkler good twist classic stori convent...      4   \n",
       "4           4   4  one best scroog movi henri winkler outdo cast ...      5   \n",
       "\n",
       "  ProductId  HelpfulnessNumerator  HelpfulnessDenominator        Time  \n",
       "0         1                     0                       0  1203984000  \n",
       "1         1                     0                       0  1388361600  \n",
       "2         1                     0                       0  1388361600  \n",
       "3         1                     0                       0  1202860800  \n",
       "4         1                     0                       0  1387670400  "
      ]
     },
     "execution_count": 86,
     "metadata": {},
     "output_type": "execute_result"
    }
   ],
   "source": [
    "textfull2.head()"
   ]
  },
  {
   "cell_type": "code",
   "execution_count": 87,
   "metadata": {},
   "outputs": [
    {
     "name": "stdout",
     "output_type": "stream",
     "text": [
      "Int64Index([      5,      11,      17,      46,      47,      48,      55,\n",
      "                 59,      78,      79,\n",
      "            ...\n",
      "            1697473, 1697493, 1697499, 1697517, 1697518, 1697520, 1697522,\n",
      "            1697524, 1697527, 1697528],\n",
      "           dtype='int64', length=300000)\n",
      "(300000, 8)\n",
      "         Unnamed: 0       Id  \\\n",
      "5                 5        5   \n",
      "11               11       11   \n",
      "17               17       17   \n",
      "46               46       46   \n",
      "47               47       47   \n",
      "...             ...      ...   \n",
      "1697520     1697520  1697520   \n",
      "1697522     1697522  1697522   \n",
      "1697524     1697524  1697524   \n",
      "1697527     1697527  1697527   \n",
      "1697528     1697528  1697528   \n",
      "\n",
      "                                                      Text  UserId ProductId  \\\n",
      "5        favorit movi mine long time henri winkler grea...       6         1   \n",
      "11       even though dont care henri winkler act like m...      12         1   \n",
      "17       anorh good movi holiday watchersa littl twist ...      18         1   \n",
      "46       wife grew new hampshir version take place easi...      47         1   \n",
      "47             first didnt like movi think minut act wasnt      48         1   \n",
      "...                                                    ...     ...       ...   \n",
      "1697520  serious one take scott derrickson latest crack...   11246     50051   \n",
      "1697522  let clear star seri product review juli first ...   30623     50052   \n",
      "1697524  would also like see origin th centuri fox sear...  109833     50052   \n",
      "1697527  final releas dvd bluray novemb episod batman t...  105966     50052   \n",
      "1697528  wow entir seri blu ray that per season get eve...    9894     50052   \n",
      "\n",
      "         HelpfulnessNumerator  HelpfulnessDenominator        Time  \n",
      "5                           0                       0  1383696000  \n",
      "11                          0                       0  1390780800  \n",
      "17                          0                       0  1389657600  \n",
      "46                         10                      14  1132963200  \n",
      "47                          0                       1  1384905600  \n",
      "...                       ...                     ...         ...  \n",
      "1697520                     0                       1  1404345600  \n",
      "1697522                    25                      88  1405555200  \n",
      "1697524                     3                      10  1405728000  \n",
      "1697527                    10                      14  1405987200  \n",
      "1697528                     1                      14  1406073600  \n",
      "\n",
      "[300000 rows x 8 columns]\n"
     ]
    }
   ],
   "source": [
    "null_index_trainset = trainset.loc[trainset['Score'].isnull(), :].index\n",
    "print(null_index_trainset)\n",
    "textfull_testall = textfull2.iloc[null_index_trainset]\n",
    "print(textfull_testall.shape)\n",
    "print(textfull_testall)"
   ]
  },
  {
   "cell_type": "code",
   "execution_count": 88,
   "metadata": {},
   "outputs": [
    {
     "name": "stdout",
     "output_type": "stream",
     "text": [
      "         Unnamed: 0       Id Text  UserId ProductId  HelpfulnessNumerator  \\\n",
      "805439       805439   805439  NaN   43970     19924                     0   \n",
      "1233308     1233308  1233308  NaN   63603     36620                     0   \n",
      "1575771     1575771  1575771  NaN  120440     46628                     0   \n",
      "1621124     1621124  1621124  NaN  121698     47785                     0   \n",
      "\n",
      "         HelpfulnessDenominator        Time  \n",
      "805439                        1  1404950400  \n",
      "1233308                       0  1405296000  \n",
      "1575771                       0  1404259200  \n",
      "1621124                       0  1404950400  \n"
     ]
    }
   ],
   "source": [
    "textfull_testall.isna().sum()\n",
    "null_testall = textfull_testall.loc[textfull_testall.loc[:, ('Text')].isnull(), :]\n",
    "print(null_testall)"
   ]
  },
  {
   "cell_type": "code",
   "execution_count": 89,
   "metadata": {},
   "outputs": [
    {
     "name": "stderr",
     "output_type": "stream",
     "text": [
      "<ipython-input-89-562f893f55d1>:1: SettingWithCopyWarning: \n",
      "A value is trying to be set on a copy of a slice from a DataFrame\n",
      "\n",
      "See the caveats in the documentation: https://pandas.pydata.org/pandas-docs/stable/user_guide/indexing.html#returning-a-view-versus-a-copy\n",
      "  textfull_testall.dropna(subset = ['Text'],inplace = True)\n"
     ]
    },
    {
     "data": {
      "text/html": [
       "<div>\n",
       "<style scoped>\n",
       "    .dataframe tbody tr th:only-of-type {\n",
       "        vertical-align: middle;\n",
       "    }\n",
       "\n",
       "    .dataframe tbody tr th {\n",
       "        vertical-align: top;\n",
       "    }\n",
       "\n",
       "    .dataframe thead th {\n",
       "        text-align: right;\n",
       "    }\n",
       "</style>\n",
       "<table border=\"1\" class=\"dataframe\">\n",
       "  <thead>\n",
       "    <tr style=\"text-align: right;\">\n",
       "      <th></th>\n",
       "      <th>Unnamed: 0</th>\n",
       "      <th>Id</th>\n",
       "      <th>Text</th>\n",
       "      <th>UserId</th>\n",
       "      <th>ProductId</th>\n",
       "      <th>HelpfulnessNumerator</th>\n",
       "      <th>HelpfulnessDenominator</th>\n",
       "      <th>Time</th>\n",
       "    </tr>\n",
       "  </thead>\n",
       "  <tbody>\n",
       "    <tr>\n",
       "      <th>0</th>\n",
       "      <td>5</td>\n",
       "      <td>5</td>\n",
       "      <td>favorit movi mine long time henri winkler grea...</td>\n",
       "      <td>6</td>\n",
       "      <td>1</td>\n",
       "      <td>0</td>\n",
       "      <td>0</td>\n",
       "      <td>1383696000</td>\n",
       "    </tr>\n",
       "    <tr>\n",
       "      <th>1</th>\n",
       "      <td>11</td>\n",
       "      <td>11</td>\n",
       "      <td>even though dont care henri winkler act like m...</td>\n",
       "      <td>12</td>\n",
       "      <td>1</td>\n",
       "      <td>0</td>\n",
       "      <td>0</td>\n",
       "      <td>1390780800</td>\n",
       "    </tr>\n",
       "    <tr>\n",
       "      <th>2</th>\n",
       "      <td>17</td>\n",
       "      <td>17</td>\n",
       "      <td>anorh good movi holiday watchersa littl twist ...</td>\n",
       "      <td>18</td>\n",
       "      <td>1</td>\n",
       "      <td>0</td>\n",
       "      <td>0</td>\n",
       "      <td>1389657600</td>\n",
       "    </tr>\n",
       "    <tr>\n",
       "      <th>3</th>\n",
       "      <td>46</td>\n",
       "      <td>46</td>\n",
       "      <td>wife grew new hampshir version take place easi...</td>\n",
       "      <td>47</td>\n",
       "      <td>1</td>\n",
       "      <td>10</td>\n",
       "      <td>14</td>\n",
       "      <td>1132963200</td>\n",
       "    </tr>\n",
       "    <tr>\n",
       "      <th>4</th>\n",
       "      <td>47</td>\n",
       "      <td>47</td>\n",
       "      <td>first didnt like movi think minut act wasnt</td>\n",
       "      <td>48</td>\n",
       "      <td>1</td>\n",
       "      <td>0</td>\n",
       "      <td>1</td>\n",
       "      <td>1384905600</td>\n",
       "    </tr>\n",
       "  </tbody>\n",
       "</table>\n",
       "</div>"
      ],
      "text/plain": [
       "   Unnamed: 0  Id                                               Text UserId  \\\n",
       "0           5   5  favorit movi mine long time henri winkler grea...      6   \n",
       "1          11  11  even though dont care henri winkler act like m...     12   \n",
       "2          17  17  anorh good movi holiday watchersa littl twist ...     18   \n",
       "3          46  46  wife grew new hampshir version take place easi...     47   \n",
       "4          47  47        first didnt like movi think minut act wasnt     48   \n",
       "\n",
       "  ProductId  HelpfulnessNumerator  HelpfulnessDenominator        Time  \n",
       "0         1                     0                       0  1383696000  \n",
       "1         1                     0                       0  1390780800  \n",
       "2         1                     0                       0  1389657600  \n",
       "3         1                    10                      14  1132963200  \n",
       "4         1                     0                       1  1384905600  "
      ]
     },
     "execution_count": 89,
     "metadata": {},
     "output_type": "execute_result"
    }
   ],
   "source": [
    "textfull_testall.dropna(subset = ['Text'],inplace = True)\n",
    "textfull_testall.reset_index(inplace=True, drop=True)\n",
    "textfull_testall.isna().sum()\n",
    "textfull_testall.head()"
   ]
  },
  {
   "cell_type": "code",
   "execution_count": 90,
   "metadata": {},
   "outputs": [],
   "source": [
    "X_test = textfull_testall['Text']"
   ]
  },
  {
   "cell_type": "code",
   "execution_count": 91,
   "metadata": {},
   "outputs": [],
   "source": [
    "X_vec_test = vectorizer.transform(X_test)"
   ]
  },
  {
   "cell_type": "code",
   "execution_count": 93,
   "metadata": {},
   "outputs": [],
   "source": [
    "add_csr_test = textfull_testall.loc[:, ('UserId', 'ProductId','HelpfulnessNumerator','HelpfulnessDenominator')].astype(int)\n",
    "add_csr2_test = add_csr_test.to_numpy()\n",
    "test_add_csr = csr_matrix(add_csr2_test)"
   ]
  },
  {
   "cell_type": "code",
   "execution_count": 95,
   "metadata": {},
   "outputs": [],
   "source": [
    "Xall_test = hstack((test_add_csr, X_vec_test))"
   ]
  },
  {
   "cell_type": "markdown",
   "metadata": {},
   "source": [
    "**SVM Predict**"
   ]
  },
  {
   "cell_type": "code",
   "execution_count": 114,
   "metadata": {},
   "outputs": [],
   "source": [
    "#SVM\n",
    "#yprediction=clf.predict(Xall_test)"
   ]
  },
  {
   "cell_type": "markdown",
   "metadata": {},
   "source": [
    "**MNB Predict**"
   ]
  },
  {
   "cell_type": "code",
   "execution_count": 46,
   "metadata": {},
   "outputs": [],
   "source": [
    "#MNB\n",
    "#yprediction=mnb.predict(Xall_test)"
   ]
  },
  {
   "cell_type": "markdown",
   "metadata": {},
   "source": [
    "**Decision Tree Predict**"
   ]
  },
  {
   "cell_type": "code",
   "execution_count": 113,
   "metadata": {},
   "outputs": [],
   "source": [
    "#Decision Tree\n",
    "#yprediction = dt.predict(Xall_test)"
   ]
  },
  {
   "cell_type": "markdown",
   "metadata": {},
   "source": [
    "**Random Forest Predict**"
   ]
  },
  {
   "cell_type": "code",
   "execution_count": null,
   "metadata": {},
   "outputs": [],
   "source": [
    "#Random Forest\n",
    "#yprediction = rfc.predict(Xall_test)"
   ]
  },
  {
   "cell_type": "markdown",
   "metadata": {},
   "source": [
    "**Ridge Predict**"
   ]
  },
  {
   "cell_type": "code",
   "execution_count": 76,
   "metadata": {},
   "outputs": [],
   "source": [
    "#Ridge\n",
    "yprediction = ridge.predict(Xall_test)\n",
    "for i in range(len(yprediction)):\n",
    "    s = yprediction[i]\n",
    "    if s < 0.5:\n",
    "        yprediction[i] = 0\n",
    "    else:\n",
    "        if s < 1.5:\n",
    "            yprediction[i] = 1\n",
    "        else:\n",
    "            if s < 2.5:\n",
    "                yprediction[i] = 2\n",
    "            else:\n",
    "                if s < 3.5:\n",
    "                    yprediction[i] = 3\n",
    "                else:\n",
    "                    if s < 4.5:\n",
    "                        yprediction[i] = 4\n",
    "                    else:\n",
    "                        yprediction[i] = 5"
   ]
  },
  {
   "cell_type": "markdown",
   "metadata": {},
   "source": [
    "**Linear Regression Predict**"
   ]
  },
  {
   "cell_type": "code",
   "execution_count": 97,
   "metadata": {},
   "outputs": [],
   "source": [
    "#linear regression\n",
    "yprediction=reg.predict(Xall_test)\n",
    "for i in range(len(yprediction)):\n",
    "    s = yprediction[i]\n",
    "    if s < 0.5:\n",
    "        yprediction[i] = 0\n",
    "    else:\n",
    "        if s < 1.5:\n",
    "            yprediction[i] = 1\n",
    "        else:\n",
    "            if s < 2.5:\n",
    "                yprediction[i] = 2\n",
    "            else:\n",
    "                if s < 3.5:\n",
    "                    yprediction[i] = 3\n",
    "                else:\n",
    "                    if s < 4.5:\n",
    "                        yprediction[i] = 4\n",
    "                    else:\n",
    "                        yprediction[i] = 5"
   ]
  },
  {
   "cell_type": "code",
   "execution_count": 99,
   "metadata": {},
   "outputs": [],
   "source": [
    "ypredict = pd.DataFrame(yprediction)"
   ]
  },
  {
   "cell_type": "code",
   "execution_count": 103,
   "metadata": {},
   "outputs": [],
   "source": [
    "submit=pd.concat([textfull_testall['Id'],ypredict],axis=1)"
   ]
  },
  {
   "cell_type": "code",
   "execution_count": 104,
   "metadata": {},
   "outputs": [],
   "source": [
    "submit.columns=['Id','Score']"
   ]
  },
  {
   "cell_type": "markdown",
   "metadata": {},
   "source": [
    "# Filling missing value using summary predict"
   ]
  },
  {
   "cell_type": "code",
   "execution_count": 105,
   "metadata": {},
   "outputs": [],
   "source": [
    "summarysubmit = pd.read_csv('submit_summary.csv')"
   ]
  },
  {
   "cell_type": "code",
   "execution_count": 107,
   "metadata": {},
   "outputs": [
    {
     "data": {
      "text/html": [
       "<div>\n",
       "<style scoped>\n",
       "    .dataframe tbody tr th:only-of-type {\n",
       "        vertical-align: middle;\n",
       "    }\n",
       "\n",
       "    .dataframe tbody tr th {\n",
       "        vertical-align: top;\n",
       "    }\n",
       "\n",
       "    .dataframe thead th {\n",
       "        text-align: right;\n",
       "    }\n",
       "</style>\n",
       "<table border=\"1\" class=\"dataframe\">\n",
       "  <thead>\n",
       "    <tr style=\"text-align: right;\">\n",
       "      <th></th>\n",
       "      <th>Id</th>\n",
       "      <th>Score</th>\n",
       "    </tr>\n",
       "  </thead>\n",
       "  <tbody>\n",
       "    <tr>\n",
       "      <th>0</th>\n",
       "      <td>805439</td>\n",
       "      <td>5.0</td>\n",
       "    </tr>\n",
       "    <tr>\n",
       "      <th>1</th>\n",
       "      <td>1233308</td>\n",
       "      <td>5.0</td>\n",
       "    </tr>\n",
       "    <tr>\n",
       "      <th>2</th>\n",
       "      <td>1575771</td>\n",
       "      <td>5.0</td>\n",
       "    </tr>\n",
       "    <tr>\n",
       "      <th>3</th>\n",
       "      <td>1621124</td>\n",
       "      <td>5.0</td>\n",
       "    </tr>\n",
       "  </tbody>\n",
       "</table>\n",
       "</div>"
      ],
      "text/plain": [
       "        Id  Score\n",
       "0   805439    5.0\n",
       "1  1233308    5.0\n",
       "2  1575771    5.0\n",
       "3  1621124    5.0"
      ]
     },
     "execution_count": 107,
     "metadata": {},
     "output_type": "execute_result"
    }
   ],
   "source": [
    "null_testall=pd.merge(null_testall.loc[:, ('Id')],summarysubmit, how='left',on='Id')\n",
    "null_testall"
   ]
  },
  {
   "cell_type": "code",
   "execution_count": 108,
   "metadata": {},
   "outputs": [],
   "source": [
    "submit1=pd.merge(submit,null_testall.loc[:, ('Id', 'Score')], how='outer',)"
   ]
  },
  {
   "cell_type": "code",
   "execution_count": 109,
   "metadata": {},
   "outputs": [],
   "source": [
    "submit1 = submit1.sort_values(by='Id', ascending=True)"
   ]
  },
  {
   "cell_type": "code",
   "execution_count": 110,
   "metadata": {},
   "outputs": [
    {
     "data": {
      "text/html": [
       "<div>\n",
       "<style scoped>\n",
       "    .dataframe tbody tr th:only-of-type {\n",
       "        vertical-align: middle;\n",
       "    }\n",
       "\n",
       "    .dataframe tbody tr th {\n",
       "        vertical-align: top;\n",
       "    }\n",
       "\n",
       "    .dataframe thead th {\n",
       "        text-align: right;\n",
       "    }\n",
       "</style>\n",
       "<table border=\"1\" class=\"dataframe\">\n",
       "  <thead>\n",
       "    <tr style=\"text-align: right;\">\n",
       "      <th></th>\n",
       "      <th>Id</th>\n",
       "      <th>Score</th>\n",
       "    </tr>\n",
       "  </thead>\n",
       "  <tbody>\n",
       "    <tr>\n",
       "      <th>0</th>\n",
       "      <td>5</td>\n",
       "      <td>4.0</td>\n",
       "    </tr>\n",
       "    <tr>\n",
       "      <th>1</th>\n",
       "      <td>11</td>\n",
       "      <td>4.0</td>\n",
       "    </tr>\n",
       "    <tr>\n",
       "      <th>2</th>\n",
       "      <td>17</td>\n",
       "      <td>4.0</td>\n",
       "    </tr>\n",
       "    <tr>\n",
       "      <th>3</th>\n",
       "      <td>46</td>\n",
       "      <td>4.0</td>\n",
       "    </tr>\n",
       "    <tr>\n",
       "      <th>4</th>\n",
       "      <td>47</td>\n",
       "      <td>4.0</td>\n",
       "    </tr>\n",
       "  </tbody>\n",
       "</table>\n",
       "</div>"
      ],
      "text/plain": [
       "   Id  Score\n",
       "0   5    4.0\n",
       "1  11    4.0\n",
       "2  17    4.0\n",
       "3  46    4.0\n",
       "4  47    4.0"
      ]
     },
     "execution_count": 110,
     "metadata": {},
     "output_type": "execute_result"
    }
   ],
   "source": [
    "submit1.head()"
   ]
  },
  {
   "cell_type": "markdown",
   "metadata": {},
   "source": [
    "# Store the result"
   ]
  },
  {
   "cell_type": "code",
   "execution_count": 111,
   "metadata": {},
   "outputs": [],
   "source": [
    "submit1.to_csv('submit_text10.csv',index=False)\n"
   ]
  }
 ],
 "metadata": {
  "kernelspec": {
   "display_name": "Python 3",
   "language": "python",
   "name": "python3"
  },
  "language_info": {
   "codemirror_mode": {
    "name": "ipython",
    "version": 3
   },
   "file_extension": ".py",
   "mimetype": "text/x-python",
   "name": "python",
   "nbconvert_exporter": "python",
   "pygments_lexer": "ipython3",
   "version": "3.8.3"
  }
 },
 "nbformat": 4,
 "nbformat_minor": 4
}
